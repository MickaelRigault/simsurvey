{
 "cells": [
  {
   "cell_type": "code",
   "execution_count": 2,
   "metadata": {
    "collapsed": false
   },
   "outputs": [],
   "source": [
    "from simsurvey.cadence import SurveyPlan"
   ]
  },
  {
   "cell_type": "code",
   "execution_count": 5,
   "metadata": {
    "collapsed": false
   },
   "outputs": [],
   "source": [
    "plan = SurveyPlan(load_opsim='/home/ufeindt/data/ptf.db')"
   ]
  },
  {
   "cell_type": "code",
   "execution_count": 6,
   "metadata": {
    "collapsed": false
   },
   "outputs": [
    {
     "data": {
      "text/html": [
       "&lt;Table length=385852&gt;\n",
       "<table id=\"table140730128758928\">\n",
       "<thead><tr><th>band</th><th>skynoise</th><th>field</th><th>RA</th><th>time</th><th>Dec</th></tr></thead>\n",
       "<thead><tr><th>float64</th><th>object</th><th>float64</th><th>float64</th><th>float64</th><th>float64</th></tr></thead>\n",
       "<tr><td>2.0</td><td>None</td><td>78.0</td><td>0.0</td><td>54847.3626208</td><td>0.0</td></tr>\n",
       "<tr><td>2.0</td><td>None</td><td>78.0</td><td>0.0</td><td>54847.4050542</td><td>0.0</td></tr>\n",
       "<tr><td>2.0</td><td>None</td><td>78.0</td><td>0.0</td><td>54847.3656329</td><td>0.0</td></tr>\n",
       "<tr><td>2.0</td><td>None</td><td>78.0</td><td>0.0</td><td>54847.3113228</td><td>0.0</td></tr>\n",
       "<tr><td>2.0</td><td>None</td><td>78.0</td><td>0.0</td><td>54847.3399171</td><td>0.0</td></tr>\n",
       "<tr><td>2.0</td><td>None</td><td>78.0</td><td>0.0</td><td>54847.3207736</td><td>0.0</td></tr>\n",
       "<tr><td>2.0</td><td>None</td><td>78.0</td><td>0.0</td><td>54847.2533008</td><td>0.0</td></tr>\n",
       "<tr><td>2.0</td><td>None</td><td>78.0</td><td>0.0</td><td>54847.1337041</td><td>0.0</td></tr>\n",
       "<tr><td>2.0</td><td>None</td><td>78.0</td><td>0.0</td><td>54847.2926862</td><td>0.0</td></tr>\n",
       "<tr><td>2.0</td><td>None</td><td>78.0</td><td>0.0</td><td>54847.3686931</td><td>0.0</td></tr>\n",
       "<tr><td>...</td><td>...</td><td>...</td><td>...</td><td>...</td><td>...</td></tr>\n",
       "<tr><td>1.0</td><td>None</td><td>4360.0</td><td>6.24578534477</td><td>57259.35359</td><td>0.647953484803</td></tr>\n",
       "<tr><td>1.0</td><td>None</td><td>4276.0</td><td>6.24707496855</td><td>57259.35243</td><td>0.608683576633</td></tr>\n",
       "<tr><td>1.0</td><td>None</td><td>4189.0</td><td>6.24788654666</td><td>57259.35127</td><td>0.569413668463</td></tr>\n",
       "<tr><td>1.0</td><td>None</td><td>4521.0</td><td>6.24341832924</td><td>57259.3559</td><td>0.726493301143</td></tr>\n",
       "<tr><td>1.0</td><td>None</td><td>4442.0</td><td>6.2448732357</td><td>57259.35475</td><td>0.687223392973</td></tr>\n",
       "<tr><td>1.0</td><td>None</td><td>4443.0</td><td>0.0397669779408</td><td>57259.35707</td><td>0.726493301143</td></tr>\n",
       "<tr><td>1.0</td><td>None</td><td>4277.0</td><td>0.0373999624093</td><td>57259.35939</td><td>0.647953484803</td></tr>\n",
       "<tr><td>1.0</td><td>None</td><td>4190.0</td><td>0.036110338625</td><td>57259.36059</td><td>0.608683576633</td></tr>\n",
       "<tr><td>1.0</td><td>None</td><td>4101.0</td><td>0.0352987605228</td><td>57259.36175</td><td>0.569413668463</td></tr>\n",
       "<tr><td>1.0</td><td>None</td><td>4361.0</td><td>0.0383120714764</td><td>57259.35823</td><td>0.687223392973</td></tr>\n",
       "</table>"
      ],
      "text/plain": [
       "<Table length=385852>\n",
       "  band  skynoise  field         RA            time          Dec      \n",
       "float64  object  float64     float64        float64       float64    \n",
       "------- -------- ------- --------------- ------------- --------------\n",
       "    2.0     None    78.0             0.0 54847.3626208            0.0\n",
       "    2.0     None    78.0             0.0 54847.4050542            0.0\n",
       "    2.0     None    78.0             0.0 54847.3656329            0.0\n",
       "    2.0     None    78.0             0.0 54847.3113228            0.0\n",
       "    2.0     None    78.0             0.0 54847.3399171            0.0\n",
       "    2.0     None    78.0             0.0 54847.3207736            0.0\n",
       "    2.0     None    78.0             0.0 54847.2533008            0.0\n",
       "    2.0     None    78.0             0.0 54847.1337041            0.0\n",
       "    2.0     None    78.0             0.0 54847.2926862            0.0\n",
       "    2.0     None    78.0             0.0 54847.3686931            0.0\n",
       "    ...      ...     ...             ...           ...            ...\n",
       "    1.0     None  4360.0   6.24578534477   57259.35359 0.647953484803\n",
       "    1.0     None  4276.0   6.24707496855   57259.35243 0.608683576633\n",
       "    1.0     None  4189.0   6.24788654666   57259.35127 0.569413668463\n",
       "    1.0     None  4521.0   6.24341832924    57259.3559 0.726493301143\n",
       "    1.0     None  4442.0    6.2448732357   57259.35475 0.687223392973\n",
       "    1.0     None  4443.0 0.0397669779408   57259.35707 0.726493301143\n",
       "    1.0     None  4277.0 0.0373999624093   57259.35939 0.647953484803\n",
       "    1.0     None  4190.0  0.036110338625   57259.36059 0.608683576633\n",
       "    1.0     None  4101.0 0.0352987605228   57259.36175 0.569413668463\n",
       "    1.0     None  4361.0 0.0383120714764   57259.35823 0.687223392973"
      ]
     },
     "execution_count": 6,
     "metadata": {},
     "output_type": "execute_result"
    }
   ],
   "source": [
    "plan.cadence"
   ]
  },
  {
   "cell_type": "code",
   "execution_count": null,
   "metadata": {
    "collapsed": true
   },
   "outputs": [],
   "source": []
  }
 ],
 "metadata": {
  "kernelspec": {
   "display_name": "Python 2",
   "language": "python",
   "name": "python2"
  },
  "language_info": {
   "codemirror_mode": {
    "name": "ipython",
    "version": 2
   },
   "file_extension": ".py",
   "mimetype": "text/x-python",
   "name": "python",
   "nbconvert_exporter": "python",
   "pygments_lexer": "ipython2",
   "version": "2.7.6"
  }
 },
 "nbformat": 4,
 "nbformat_minor": 0
}
