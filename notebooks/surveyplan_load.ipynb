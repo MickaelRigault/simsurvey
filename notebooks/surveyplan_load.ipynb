{
 "cells": [
  {
   "cell_type": "code",
   "execution_count": 4,
   "metadata": {
    "collapsed": false
   },
   "outputs": [],
   "source": [
    "from simsurvey.cadence import SurveyPlan"
   ]
  },
  {
   "cell_type": "code",
   "execution_count": 7,
   "metadata": {
    "collapsed": false
   },
   "outputs": [],
   "source": [
    "plan = SurveyPlan(load_opsim='/home/ufeindt/data/ptf.db')"
   ]
  },
  {
   "cell_type": "code",
   "execution_count": 8,
   "metadata": {
    "collapsed": false
   },
   "outputs": [
    {
     "data": {
      "text/html": [
       "&lt;Table length=385852&gt;\n",
       "<table id=\"table140077627152464\">\n",
       "<thead><tr><th>band</th><th>skynoise</th><th>field</th><th>RA</th><th>time</th><th>Dec</th></tr></thead>\n",
       "<thead><tr><th>float64</th><th>float64</th><th>float64</th><th>float64</th><th>float64</th><th>float64</th></tr></thead>\n",
       "<tr><td>2.0</td><td>nan</td><td>78.0</td><td>0.0</td><td>54847.3626208</td><td>0.0</td></tr>\n",
       "<tr><td>2.0</td><td>nan</td><td>78.0</td><td>0.0</td><td>54847.4050542</td><td>0.0</td></tr>\n",
       "<tr><td>2.0</td><td>nan</td><td>78.0</td><td>0.0</td><td>54847.3656329</td><td>0.0</td></tr>\n",
       "<tr><td>2.0</td><td>nan</td><td>78.0</td><td>0.0</td><td>54847.3113228</td><td>0.0</td></tr>\n",
       "<tr><td>2.0</td><td>nan</td><td>78.0</td><td>0.0</td><td>54847.3399171</td><td>0.0</td></tr>\n",
       "<tr><td>2.0</td><td>nan</td><td>78.0</td><td>0.0</td><td>54847.3207736</td><td>0.0</td></tr>\n",
       "<tr><td>2.0</td><td>nan</td><td>78.0</td><td>0.0</td><td>54847.2533008</td><td>0.0</td></tr>\n",
       "<tr><td>2.0</td><td>nan</td><td>78.0</td><td>0.0</td><td>54847.1337041</td><td>0.0</td></tr>\n",
       "<tr><td>2.0</td><td>nan</td><td>78.0</td><td>0.0</td><td>54847.2926862</td><td>0.0</td></tr>\n",
       "<tr><td>2.0</td><td>nan</td><td>78.0</td><td>0.0</td><td>54847.3686931</td><td>0.0</td></tr>\n",
       "<tr><td>...</td><td>...</td><td>...</td><td>...</td><td>...</td><td>...</td></tr>\n",
       "<tr><td>1.0</td><td>nan</td><td>4360.0</td><td>357.85714</td><td>57259.35359</td><td>37.125</td></tr>\n",
       "<tr><td>1.0</td><td>nan</td><td>4276.0</td><td>357.93103</td><td>57259.35243</td><td>34.875</td></tr>\n",
       "<tr><td>1.0</td><td>nan</td><td>4189.0</td><td>357.97753</td><td>57259.35127</td><td>32.625</td></tr>\n",
       "<tr><td>1.0</td><td>nan</td><td>4521.0</td><td>357.72152</td><td>57259.3559</td><td>41.625</td></tr>\n",
       "<tr><td>1.0</td><td>nan</td><td>4442.0</td><td>357.80488</td><td>57259.35475</td><td>39.375</td></tr>\n",
       "<tr><td>1.0</td><td>nan</td><td>4443.0</td><td>2.27848</td><td>57259.35707</td><td>41.625</td></tr>\n",
       "<tr><td>1.0</td><td>nan</td><td>4277.0</td><td>2.14286</td><td>57259.35939</td><td>37.125</td></tr>\n",
       "<tr><td>1.0</td><td>nan</td><td>4190.0</td><td>2.06897</td><td>57259.36059</td><td>34.875</td></tr>\n",
       "<tr><td>1.0</td><td>nan</td><td>4101.0</td><td>2.02247</td><td>57259.36175</td><td>32.625</td></tr>\n",
       "<tr><td>1.0</td><td>nan</td><td>4361.0</td><td>2.19512</td><td>57259.35823</td><td>39.375</td></tr>\n",
       "</table>"
      ],
      "text/plain": [
       "<Table length=385852>\n",
       "  band  skynoise  field      RA         time       Dec  \n",
       "float64 float64  float64  float64     float64    float64\n",
       "------- -------- ------- --------- ------------- -------\n",
       "    2.0      nan    78.0       0.0 54847.3626208     0.0\n",
       "    2.0      nan    78.0       0.0 54847.4050542     0.0\n",
       "    2.0      nan    78.0       0.0 54847.3656329     0.0\n",
       "    2.0      nan    78.0       0.0 54847.3113228     0.0\n",
       "    2.0      nan    78.0       0.0 54847.3399171     0.0\n",
       "    2.0      nan    78.0       0.0 54847.3207736     0.0\n",
       "    2.0      nan    78.0       0.0 54847.2533008     0.0\n",
       "    2.0      nan    78.0       0.0 54847.1337041     0.0\n",
       "    2.0      nan    78.0       0.0 54847.2926862     0.0\n",
       "    2.0      nan    78.0       0.0 54847.3686931     0.0\n",
       "    ...      ...     ...       ...           ...     ...\n",
       "    1.0      nan  4360.0 357.85714   57259.35359  37.125\n",
       "    1.0      nan  4276.0 357.93103   57259.35243  34.875\n",
       "    1.0      nan  4189.0 357.97753   57259.35127  32.625\n",
       "    1.0      nan  4521.0 357.72152    57259.3559  41.625\n",
       "    1.0      nan  4442.0 357.80488   57259.35475  39.375\n",
       "    1.0      nan  4443.0   2.27848   57259.35707  41.625\n",
       "    1.0      nan  4277.0   2.14286   57259.35939  37.125\n",
       "    1.0      nan  4190.0   2.06897   57259.36059  34.875\n",
       "    1.0      nan  4101.0   2.02247   57259.36175  32.625\n",
       "    1.0      nan  4361.0   2.19512   57259.35823  39.375"
      ]
     },
     "execution_count": 8,
     "metadata": {},
     "output_type": "execute_result"
    }
   ],
   "source": [
    "plan.cadence"
   ]
  },
  {
   "cell_type": "code",
   "execution_count": null,
   "metadata": {
    "collapsed": true
   },
   "outputs": [],
   "source": []
  }
 ],
 "metadata": {
  "kernelspec": {
   "display_name": "Python 2",
   "language": "python",
   "name": "python2"
  },
  "language_info": {
   "codemirror_mode": {
    "name": "ipython",
    "version": 2
   },
   "file_extension": ".py",
   "mimetype": "text/x-python",
   "name": "python",
   "nbconvert_exporter": "python",
   "pygments_lexer": "ipython2",
   "version": "2.7.6"
  }
 },
 "nbformat": 4,
 "nbformat_minor": 0
}
